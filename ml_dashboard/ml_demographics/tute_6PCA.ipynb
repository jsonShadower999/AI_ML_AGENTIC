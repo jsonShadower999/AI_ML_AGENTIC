{
 "cells": [
  {
   "cell_type": "code",
   "execution_count": null,
   "id": "e712fa73",
   "metadata": {
    "vscode": {
     "languageId": "plaintext"
    }
   },
   "outputs": [],
   "source": [
    "#features increase it become difficult \n",
    "#higher dimension problem to search the result \n",
    "#computation n calculation increases \n",
    "#solution>>>\n",
    "dimensionality REDUCTION !!!!\n",
    "FEATURE SELECTION : Taking subset ....\n",
    "FEATURE EXTRACTION : PCA ,LDA ,tsne \n",
    "\n",
    "f1,f2,f3,...\n",
    "E1,S2,E3,...\n",
    "\n"
   ]
  }
 ],
 "metadata": {
  "language_info": {
   "name": "python"
  }
 },
 "nbformat": 4,
 "nbformat_minor": 5
}
