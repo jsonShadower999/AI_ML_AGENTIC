{
 "cells": [
  {
   "cell_type": "code",
   "execution_count": null,
   "id": "c6de2da9",
   "metadata": {
    "vscode": {
     "languageId": "plaintext"
    }
   },
   "outputs": [],
   "source": [
    "#on or model understand n tackle the data \n",
    "#the most voted decision is final decision \n",
    "$types of ensemble learning \n",
    "Voting/ensemble : different algo same data , clasification : majority , regression:average \n",
    "stacing : different algo n same dataset + supreme algo \n",
    "Bagging ---random forest ; dataset spliting , same algo -->aggregation\n",
    "Boosting ---most used , Ada boast , Gradient , xgboast \n",
    "         ---dataset is treated under sequence , like pipeline , \n",
    "         ---1 dataset and n models in sequence \n",
    "\n",
    "\n",
    "\n",
    ">>>Bias variance is reduced \n",
    ">>low bias n low variance is my target \n",
    "\n",
    "low bias high variance-->test not good \n",
    "\n"
   ]
  },
  {
   "cell_type": "code",
   "execution_count": null,
   "id": "5c0ffa94",
   "metadata": {
    "vscode": {
     "languageId": "plaintext"
    }
   },
   "outputs": [],
   "source": [
    "#random forest \n"
   ]
  }
 ],
 "metadata": {
  "language_info": {
   "name": "python"
  }
 },
 "nbformat": 4,
 "nbformat_minor": 5
}
